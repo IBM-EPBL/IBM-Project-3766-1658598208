{
 "cells": [
  {
   "cell_type": "code",
   "execution_count": 1,
   "id": "6ca8949d",
   "metadata": {
    "scrolled": false
   },
   "outputs": [
    {
     "name": "stdout",
     "output_type": "stream",
     "text": [
      " * Serving Flask app '__main__'\n",
      " * Debug mode: on\n"
     ]
    },
    {
     "name": "stderr",
     "output_type": "stream",
     "text": [
      "WARNING: This is a development server. Do not use it in a production deployment. Use a production WSGI server instead.\n",
      " * Running on http://127.0.0.1:5000\n",
      "Press CTRL+C to quit\n",
      "127.0.0.1 - - [06/Nov/2022 13:22:33] \"GET / HTTP/1.1\" 200 -\n",
      "127.0.0.1 - - [06/Nov/2022 13:22:34] \"GET /static/css/bootstrap.css HTTP/1.1\" 200 -\n",
      "127.0.0.1 - - [06/Nov/2022 13:22:34] \"GET /static/css/owl.carousel.css HTTP/1.1\" 200 -\n",
      "127.0.0.1 - - [06/Nov/2022 13:22:34] \"GET /static/css/owl.theme.css HTTP/1.1\" 200 -\n",
      "127.0.0.1 - - [06/Nov/2022 13:22:34] \"GET /static/css/owl.transitions.css HTTP/1.1\" 200 -\n",
      "127.0.0.1 - - [06/Nov/2022 13:22:34] \"GET /static/js/jquery.min.js HTTP/1.1\" 200 -\n",
      "127.0.0.1 - - [06/Nov/2022 13:22:34] \"GET /static/css/responsive.css HTTP/1.1\" 200 -\n",
      "127.0.0.1 - - [06/Nov/2022 13:22:34] \"GET /static/js/bootstrap.js HTTP/1.1\" 200 -\n",
      "127.0.0.1 - - [06/Nov/2022 13:22:34] \"GET /static/js/jquery.prettyPhoto.js HTTP/1.1\" 200 -\n",
      "127.0.0.1 - - [06/Nov/2022 13:22:34] \"GET /static/js/jquery.nicescroll.js HTTP/1.1\" 200 -\n",
      "127.0.0.1 - - [06/Nov/2022 13:22:34] \"GET /static/js/waypoints.min.js HTTP/1.1\" 404 -\n",
      "127.0.0.1 - - [06/Nov/2022 13:22:34] \"GET /static/js/jquery.isotope.js HTTP/1.1\" 200 -\n",
      "127.0.0.1 - - [06/Nov/2022 13:22:34] \"GET /static/js/wow.js HTTP/1.1\" 200 -\n",
      "127.0.0.1 - - [06/Nov/2022 13:22:34] \"GET /static/css/style.css HTTP/1.1\" 200 -\n",
      "127.0.0.1 - - [06/Nov/2022 13:22:34] \"GET /static/js/jquery.countTo.js HTTP/1.1\" 200 -\n",
      "127.0.0.1 - - [06/Nov/2022 13:22:34] \"GET /static/js/jquery.inview.min.js HTTP/1.1\" 200 -\n",
      "127.0.0.1 - - [06/Nov/2022 13:22:34] \"GET /static/css/animate.css HTTP/1.1\" 200 -\n",
      "127.0.0.1 - - [06/Nov/2022 13:22:34] \"GET /static/js/owl.carousel.js HTTP/1.1\" 200 -\n",
      "127.0.0.1 - - [06/Nov/2022 13:22:34] \"GET /static/js/script.js HTTP/1.1\" 200 -\n",
      "127.0.0.1 - - [06/Nov/2022 13:22:34] \"GET /static/images/Aboutus/01.jpg HTTP/1.1\" 200 -\n",
      "127.0.0.1 - - [06/Nov/2022 13:22:34] \"GET /static/images/Features/01.jpg HTTP/1.1\" 200 -\n",
      "127.0.0.1 - - [06/Nov/2022 13:22:34] \"GET /static/images/Features/02.jpg HTTP/1.1\" 200 -\n",
      "127.0.0.1 - - [06/Nov/2022 13:22:34] \"GET /static/images/Features/03.jpg HTTP/1.1\" 200 -\n",
      "127.0.0.1 - - [06/Nov/2022 13:22:34] \"GET /static/css/prettyPhoto.css HTTP/1.1\" 200 -\n",
      "127.0.0.1 - - [06/Nov/2022 13:22:34] \"GET /static/images/Features/04.jpg HTTP/1.1\" 200 -\n",
      "127.0.0.1 - - [06/Nov/2022 13:22:35] \"GET /static/images/Features/05.jpg HTTP/1.1\" 200 -\n",
      "127.0.0.1 - - [06/Nov/2022 13:22:35] \"GET /static/images/Team/avatar.png HTTP/1.1\" 200 -\n",
      "127.0.0.1 - - [06/Nov/2022 13:22:35] \"GET /static/images/Blog/homeloan.jpg HTTP/1.1\" 200 -\n",
      "127.0.0.1 - - [06/Nov/2022 13:22:35] \"GET /static/images/Blog/health.jpg HTTP/1.1\" 200 -\n",
      "127.0.0.1 - - [06/Nov/2022 13:22:35] \"GET /static/images/Blog/pension.jpg HTTP/1.1\" 200 -\n",
      "127.0.0.1 - - [06/Nov/2022 13:22:35] \"GET /static/css/font-awesome.css HTTP/1.1\" 200 -\n",
      "127.0.0.1 - - [06/Nov/2022 13:22:35] \"GET /static/preloader.gif HTTP/1.1\" 200 -\n",
      "127.0.0.1 - - [06/Nov/2022 13:22:35] \"GET /static/images/Slider/01.jpg HTTP/1.1\" 200 -\n",
      "127.0.0.1 - - [06/Nov/2022 13:22:35] \"GET /static/fonts/helvetica_neue_ce_55_roman-webfont.woff2 HTTP/1.1\" 200 -\n",
      "127.0.0.1 - - [06/Nov/2022 13:22:35] \"GET /static/fonts/fontawesome-webfont.woff2?v=4.4.0 HTTP/1.1\" 200 -\n",
      "127.0.0.1 - - [06/Nov/2022 13:22:35] \"GET /static/fonts/opensans-regular-webfont.woff2 HTTP/1.1\" 200 -\n",
      "127.0.0.1 - - [06/Nov/2022 13:22:36] \"GET /favicon.ico HTTP/1.1\" 404 -\n",
      "127.0.0.1 - - [06/Nov/2022 13:22:44] \"GET /static/images/Slider/02.jpg HTTP/1.1\" 200 -\n",
      "127.0.0.1 - - [06/Nov/2022 13:22:49] \"GET /static/images/Slider/03.jpg HTTP/1.1\" 200 -\n"
     ]
    }
   ],
   "source": [
    "from flask import Flask, render_template\n",
    "\n",
    "app = Flask(__name__)\n",
    "\n",
    "@app.route('/')\n",
    "def bot():\n",
    "    return render_template(\"index.html\")\n",
    "\n",
    "if __name__ == \"__main__\":\n",
    "    app.run(debug=True,use_reloader=False)"
   ]
  },
  {
   "cell_type": "code",
   "execution_count": null,
   "id": "05906cec",
   "metadata": {},
   "outputs": [],
   "source": [
    "\n"
   ]
  },
  {
   "cell_type": "code",
   "execution_count": null,
   "id": "9424eb30",
   "metadata": {},
   "outputs": [],
   "source": []
  },
  {
   "cell_type": "code",
   "execution_count": null,
   "id": "ef67b007",
   "metadata": {},
   "outputs": [],
   "source": []
  }
 ],
 "metadata": {
  "kernelspec": {
   "display_name": "Python 3.10.8 64-bit (microsoft store)",
   "language": "python",
   "name": "python3"
  },
  "language_info": {
   "codemirror_mode": {
    "name": "ipython",
    "version": 3
   },
   "file_extension": ".py",
   "mimetype": "text/x-python",
   "name": "python",
   "nbconvert_exporter": "python",
   "pygments_lexer": "ipython3",
   "version": "3.10.8"
  },
  "vscode": {
   "interpreter": {
    "hash": "5207303b0ebd649962790445bdc06347233b07fd5c6b78f0b027e9d85420c911"
   }
  }
 },
 "nbformat": 4,
 "nbformat_minor": 5
}
